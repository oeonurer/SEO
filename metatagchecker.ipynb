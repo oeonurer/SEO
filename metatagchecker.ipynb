{
 "cells": [
  {
   "cell_type": "code",
   "execution_count": 4,
   "metadata": {},
   "outputs": [
    {
     "name": "stdout",
     "output_type": "stream",
     "text": [
      "Lütfen site adresini giriniz: https://teknofeed.com\n",
      "Site Yanıt Kodu:  200\n",
      "Meta Title:  Teknofeed.COM - Teknoloji Blogu\n",
      "Description:  En güncel teknoloji haberleri, mobil, android, iOS haberleri, yazılım ve bilim haberleri ücretsiz olarak, teknoloji bloğu Teknofeed.com'da!\n",
      "Robots:  index, follow\n"
     ]
    }
   ],
   "source": [
    "#!/usr/bin/env python3\n",
    "# -*- coding: utf-8 -*-\n",
    "\n",
    "from bs4 import BeautifulSoup\n",
    "import requests\n",
    "\n",
    "website = input(\"Lütfen site adresini giriniz: \")\n",
    "\n",
    "res = requests.get(website)\n",
    "print('Site Yanıt Kodu: ', res.status_code)\n",
    "\n",
    "def main():\n",
    "\n",
    "    r = requests.get(website)\n",
    "    soup = BeautifulSoup(r.content, \"html.parser\")\n",
    "\n",
    "    title = soup.title.string\n",
    "    print('Meta Title: ', title)\n",
    "\n",
    "    meta = soup.find_all('meta')\n",
    "\n",
    "    for tag in meta:\n",
    "        if 'name' in tag.attrs.keys() and tag.attrs['name'].strip().lower() in ['description']:\n",
    "            print('Description: ', tag.attrs['content'])\n",
    "        if 'name' in tag.attrs.keys() and tag.attrs['name'].strip().lower() in ['robots']:\n",
    "            print('Robots: ', tag.attrs['content'])\n",
    "\n",
    "if __name__ == '__main__':\n",
    "    main()"
   ]
  }
 ],
 "metadata": {
  "kernelspec": {
   "display_name": "Python 3",
   "language": "python",
   "name": "python3"
  },
  "language_info": {
   "codemirror_mode": {
    "name": "ipython",
    "version": 3
   },
   "file_extension": ".py",
   "mimetype": "text/x-python",
   "name": "python",
   "nbconvert_exporter": "python",
   "pygments_lexer": "ipython3",
   "version": "3.7.4"
  }
 },
 "nbformat": 4,
 "nbformat_minor": 2
}
