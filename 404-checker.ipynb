{
 "cells": [
  {
   "cell_type": "code",
   "execution_count": null,
   "metadata": {},
   "outputs": [],
   "source": [
    "import advertools as adv\n",
    "import pandas as pd\n",
    "import requests\n",
    "sitemapadresi = adv.sitemap_to_df(input('Lütfen tam sitemap adresinizi giriniz: '))\n",
    "sitemapadresi.to_csv('crawled_sitemap.csv', index = False)\n",
    "sitemapadresi = pd.read_csv('crawled_sitemap.csv')\n",
    "sitemapadresi.head(100)"
   ]
  },
  {
   "cell_type": "code",
   "execution_count": null,
   "metadata": {
    "scrolled": true
   },
   "outputs": [],
   "source": [
    "for url in sitemapadresi['loc']:\n",
    "    status = requests.get(url)\n",
    "    sitemapadresi['status'] = status.status_code\n",
    "    print(f'Status code of {url} is {status.reason} and {status.status_code}')"
   ]
  },
  {
   "cell_type": "code",
   "execution_count": null,
   "metadata": {},
   "outputs": [],
   "source": [
    "sitemapadresi[['loc', 'status']].head(20)"
   ]
  },
  {
   "cell_type": "code",
   "execution_count": null,
   "metadata": {},
   "outputs": [],
   "source": [
    "sitemapadresi['status'].value_counts()\n"
   ]
  },
  {
   "cell_type": "code",
   "execution_count": null,
   "metadata": {
    "scrolled": true
   },
   "outputs": [],
   "source": [
    "for url in sitemapadresi['loc'].sample(100).tolist():\n",
    "    url_400 = []\n",
    "    url_200 = []\n",
    "    url_300 = []\n",
    "    url_500 = []\n",
    "    resp = requests.get((url, status.status_code))\n",
    "    if  400 <= resp.status_code < 500:\n",
    "        url_404.append((url, status.status_code))\n",
    "    elif 300 <= resp.status_code < 400:\n",
    "        url_300.append((url, status.status_code))\n",
    "    elif 500 < resp.status_code < 600:\n",
    "        url_500.append((url, status.status_code))\n",
    "    else:\n",
    "        url_200.append((url, status.status_code))"
   ]
  },
  {
   "cell_type": "code",
   "execution_count": null,
   "metadata": {},
   "outputs": [],
   "source": []
  }
 ],
 "metadata": {
  "kernelspec": {
   "display_name": "Python 3",
   "language": "python",
   "name": "python3"
  },
  "language_info": {
   "codemirror_mode": {
    "name": "ipython",
    "version": 3
   },
   "file_extension": ".py",
   "mimetype": "text/x-python",
   "name": "python",
   "nbconvert_exporter": "python",
   "pygments_lexer": "ipython3",
   "version": "3.9.1"
  }
 },
 "nbformat": 4,
 "nbformat_minor": 4
}
