{
 "cells": [
  {
   "cell_type": "code",
   "execution_count": null,
   "metadata": {
    "scrolled": true
   },
   "outputs": [],
   "source": [
    "import pandas as pd\n",
    "from pytrends.request import TrendReq\n",
    "pytrend = TrendReq(hl='tr-TR', tz=360)\n",
    "keywords = ['seo', 'python']\n",
    "pytrend.build_payload(\n",
    "     kw_list=keywords,\n",
    "     cat=0,\n",
    "     timeframe='today 12-m',\n",
    "     geo='TR',\n",
    "     gprop='')\n",
    "data = pytrend.interest_over_time()\n",
    "data= data.drop(labels=['isPartial'],axis='columns')\n",
    "image = data.plot(title = '12 Aylık Google Trends Karşılaştırma')\n",
    "fig = image.get_figure()\n",
    "fig.patch.set_facecolor('xkcd:mint green')\n",
    "fig.set_size_inches(16.5, 9.5)\n",
    "fig.savefig('figure.png', dpi=100, transparent=True)\n",
    "data.to_csv('keyword.csv', encoding='utf_8_sig')"
   ]
  },
  {
   "cell_type": "code",
   "execution_count": null,
   "metadata": {},
   "outputs": [],
   "source": []
  }
 ],
 "metadata": {
  "kernelspec": {
   "display_name": "Python 3",
   "language": "python",
   "name": "python3"
  },
  "language_info": {
   "codemirror_mode": {
    "name": "ipython",
    "version": 3
   },
   "file_extension": ".py",
   "mimetype": "text/x-python",
   "name": "python",
   "nbconvert_exporter": "python",
   "pygments_lexer": "ipython3",
   "version": "3.9.1"
  }
 },
 "nbformat": 4,
 "nbformat_minor": 4
}
